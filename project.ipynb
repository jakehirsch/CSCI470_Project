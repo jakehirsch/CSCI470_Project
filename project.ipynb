{
 "cells": [
  {
   "cell_type": "markdown",
   "id": "31255466",
   "metadata": {},
   "source": [
    "CSCI 470 Project\n",
    "Jake Hirsch, Michael Hargraves\n",
    "Natural Language Processing: Disaster Tweets\n",
    "07/15/2025\n",
    "\n",
    "    \n"
   ]
  },
  {
   "cell_type": "code",
   "execution_count": null,
   "id": "23ff8720",
   "metadata": {
    "vscode": {
     "languageId": "plaintext"
    }
   },
   "outputs": [],
   "source": [
    "import tensorflow as tf\n",
    "import sklearn as sk\n",
    "import numpy as np\n",
    "import pandas as pd\n",
    "import matplotlib.pyplot as plt\n",
    "\n"
   ]
  }
 ],
 "metadata": {
  "language_info": {
   "name": "python"
  }
 },
 "nbformat": 4,
 "nbformat_minor": 5
}
